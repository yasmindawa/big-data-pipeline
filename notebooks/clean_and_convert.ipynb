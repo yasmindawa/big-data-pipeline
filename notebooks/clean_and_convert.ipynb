{
 "cells": [
  {
   "cell_type": "code",
   "execution_count": 2,
   "id": "937e081f-8f86-426b-a395-f4883a1240ca",
   "metadata": {},
   "outputs": [],
   "source": [
    "import numpy as np\n",
    "import pandas as pd\n",
    "import matplotlib.pyplot as plt\n",
    "import os\n",
    "import pyarrow as pa\n",
    "import pyarrow.parquet as pq"
   ]
  },
  {
   "cell_type": "code",
   "execution_count": 74,
   "id": "c316270b-fed9-428e-9463-1073506879e0",
   "metadata": {},
   "outputs": [],
   "source": [
    "#the directory path and filenames\n",
    "filepath = (r\"D:\\iti\\big_data\\Data_Needed\")\n",
    "filenames = os.listdir(r\"D:\\iti\\big_data\\Data_Needed\")"
   ]
  },
  {
   "cell_type": "code",
   "execution_count": 75,
   "id": "7b686a2d-98d6-41f1-a801-492039d05c7e",
   "metadata": {},
   "outputs": [
    {
     "data": {
      "text/plain": [
       "['D:\\\\iti\\\\big_data\\\\Data_Needed\\\\ADMISSIONS.csv',\n",
       " 'D:\\\\iti\\\\big_data\\\\Data_Needed\\\\DIAGNOSES_ICD.csv',\n",
       " 'D:\\\\iti\\\\big_data\\\\Data_Needed\\\\D_ICD_DIAGNOSES.csv',\n",
       " 'D:\\\\iti\\\\big_data\\\\Data_Needed\\\\ICUSTAYS.csv',\n",
       " 'D:\\\\iti\\\\big_data\\\\Data_Needed\\\\PATIENTS.csv']"
      ]
     },
     "execution_count": 75,
     "metadata": {},
     "output_type": "execute_result"
    }
   ],
   "source": [
    "#Combining the directory path with each filename to create the full file paths\n",
    "files = [os.path.join(filepath,filename) for filename in filenames]\n",
    "files"
   ]
  },
  {
   "cell_type": "code",
   "execution_count": 76,
   "id": "0e7f5820-1d93-4e84-b7ed-3b03508f9e49",
   "metadata": {},
   "outputs": [],
   "source": [
    "# Removing rows with null values and dropping duplicate for each csv file\n",
    "dfs = []\n",
    "for file in files:\n",
    "    df = pd.read_csv(file, header = 0)\n",
    "    df.dropna(how = 'all',inplace = True)\n",
    "    df.drop_duplicates(inplace = True)\n",
    "    df.reset_index(inplace = True)\n",
    "    dfs.append(df)\n",
    "admissions, diagnoses_icd, d_icd_diagnoses, icustays, patients = dfs"
   ]
  },
  {
   "cell_type": "code",
   "execution_count": 77,
   "id": "9ec6d5a0-89c2-4240-a394-0ea7ed3025ed",
   "metadata": {},
   "outputs": [],
   "source": [
    "#this step just to simply the process when quering in Hive for the diagnoses:\n",
    "\n",
    "diagnosis_full = diagnoses_icd.merge(d_icd_diagnoses, on='icd9_code', how='left')"
   ]
  },
  {
   "cell_type": "code",
   "execution_count": 78,
   "id": "38a1e5e0-5039-40f7-bc19-fa08b2a944fc",
   "metadata": {},
   "outputs": [
    {
     "data": {
      "text/html": [
       "<div>\n",
       "<style scoped>\n",
       "    .dataframe tbody tr th:only-of-type {\n",
       "        vertical-align: middle;\n",
       "    }\n",
       "\n",
       "    .dataframe tbody tr th {\n",
       "        vertical-align: top;\n",
       "    }\n",
       "\n",
       "    .dataframe thead th {\n",
       "        text-align: right;\n",
       "    }\n",
       "</style>\n",
       "<table border=\"1\" class=\"dataframe\">\n",
       "  <thead>\n",
       "    <tr style=\"text-align: right;\">\n",
       "      <th></th>\n",
       "      <th>index_x</th>\n",
       "      <th>row_id_x</th>\n",
       "      <th>subject_id</th>\n",
       "      <th>hadm_id</th>\n",
       "      <th>seq_num</th>\n",
       "      <th>icd9_code</th>\n",
       "      <th>index_y</th>\n",
       "      <th>row_id_y</th>\n",
       "      <th>short_title</th>\n",
       "      <th>long_title</th>\n",
       "    </tr>\n",
       "  </thead>\n",
       "  <tbody>\n",
       "    <tr>\n",
       "      <th>0</th>\n",
       "      <td>0</td>\n",
       "      <td>112344</td>\n",
       "      <td>10006</td>\n",
       "      <td>142345</td>\n",
       "      <td>1</td>\n",
       "      <td>99591</td>\n",
       "      <td>11402.0</td>\n",
       "      <td>11403.0</td>\n",
       "      <td>Sepsis</td>\n",
       "      <td>Sepsis</td>\n",
       "    </tr>\n",
       "    <tr>\n",
       "      <th>1</th>\n",
       "      <td>1</td>\n",
       "      <td>112345</td>\n",
       "      <td>10006</td>\n",
       "      <td>142345</td>\n",
       "      <td>2</td>\n",
       "      <td>99662</td>\n",
       "      <td>11437.0</td>\n",
       "      <td>11438.0</td>\n",
       "      <td>React-oth vasc dev/graft</td>\n",
       "      <td>Infection and inflammatory reaction due to oth...</td>\n",
       "    </tr>\n",
       "    <tr>\n",
       "      <th>2</th>\n",
       "      <td>2</td>\n",
       "      <td>112346</td>\n",
       "      <td>10006</td>\n",
       "      <td>142345</td>\n",
       "      <td>3</td>\n",
       "      <td>5672</td>\n",
       "      <td>NaN</td>\n",
       "      <td>NaN</td>\n",
       "      <td>NaN</td>\n",
       "      <td>NaN</td>\n",
       "    </tr>\n",
       "    <tr>\n",
       "      <th>3</th>\n",
       "      <td>3</td>\n",
       "      <td>112347</td>\n",
       "      <td>10006</td>\n",
       "      <td>142345</td>\n",
       "      <td>4</td>\n",
       "      <td>40391</td>\n",
       "      <td>4315.0</td>\n",
       "      <td>4316.0</td>\n",
       "      <td>Hyp kid NOS w cr kid V</td>\n",
       "      <td>Hypertensive chronic kidney disease, unspecifi...</td>\n",
       "    </tr>\n",
       "    <tr>\n",
       "      <th>4</th>\n",
       "      <td>4</td>\n",
       "      <td>112348</td>\n",
       "      <td>10006</td>\n",
       "      <td>142345</td>\n",
       "      <td>5</td>\n",
       "      <td>42731</td>\n",
       "      <td>4461.0</td>\n",
       "      <td>4462.0</td>\n",
       "      <td>Atrial fibrillation</td>\n",
       "      <td>Atrial fibrillation</td>\n",
       "    </tr>\n",
       "  </tbody>\n",
       "</table>\n",
       "</div>"
      ],
      "text/plain": [
       "   index_x  row_id_x  subject_id  hadm_id  seq_num icd9_code  index_y  \\\n",
       "0        0    112344       10006   142345        1     99591  11402.0   \n",
       "1        1    112345       10006   142345        2     99662  11437.0   \n",
       "2        2    112346       10006   142345        3      5672      NaN   \n",
       "3        3    112347       10006   142345        4     40391   4315.0   \n",
       "4        4    112348       10006   142345        5     42731   4461.0   \n",
       "\n",
       "   row_id_y               short_title  \\\n",
       "0   11403.0                    Sepsis   \n",
       "1   11438.0  React-oth vasc dev/graft   \n",
       "2       NaN                       NaN   \n",
       "3    4316.0    Hyp kid NOS w cr kid V   \n",
       "4    4462.0       Atrial fibrillation   \n",
       "\n",
       "                                          long_title  \n",
       "0                                             Sepsis  \n",
       "1  Infection and inflammatory reaction due to oth...  \n",
       "2                                                NaN  \n",
       "3  Hypertensive chronic kidney disease, unspecifi...  \n",
       "4                                Atrial fibrillation  "
      ]
     },
     "execution_count": 78,
     "metadata": {},
     "output_type": "execute_result"
    }
   ],
   "source": [
    "diagnosis_full.head()"
   ]
  },
  {
   "cell_type": "code",
   "execution_count": 79,
   "id": "6d038003-b741-4b37-9641-3f2e632a544d",
   "metadata": {},
   "outputs": [],
   "source": [
    "#dropping unnessecary columns\n",
    "\n",
    "diagnosis_full.drop(columns=['row_id_y', 'index_y'], errors='ignore', inplace=True)"
   ]
  },
  {
   "cell_type": "markdown",
   "id": "f6cd31cd-1f08-4fc1-b359-8d9b8855e2db",
   "metadata": {},
   "source": [
    "### Checking each dataset to see if it needs any cleaning"
   ]
  },
  {
   "cell_type": "markdown",
   "id": "1571f3df-efd0-4b0e-9b10-aaa2be64c913",
   "metadata": {},
   "source": [
    "### admissions Cleaning"
   ]
  },
  {
   "cell_type": "code",
   "execution_count": 80,
   "id": "4324350b-2d74-4cc7-a743-09276ffb7f5e",
   "metadata": {},
   "outputs": [
    {
     "name": "stdout",
     "output_type": "stream",
     "text": [
      "<class 'pandas.core.frame.DataFrame'>\n",
      "RangeIndex: 129 entries, 0 to 128\n",
      "Data columns (total 20 columns):\n",
      " #   Column                Non-Null Count  Dtype \n",
      "---  ------                --------------  ----- \n",
      " 0   index                 129 non-null    int64 \n",
      " 1   row_id                129 non-null    int64 \n",
      " 2   subject_id            129 non-null    int64 \n",
      " 3   hadm_id               129 non-null    int64 \n",
      " 4   admittime             129 non-null    object\n",
      " 5   dischtime             129 non-null    object\n",
      " 6   deathtime             40 non-null     object\n",
      " 7   admission_type        129 non-null    object\n",
      " 8   admission_location    129 non-null    object\n",
      " 9   discharge_location    129 non-null    object\n",
      " 10  insurance             129 non-null    object\n",
      " 11  language              81 non-null     object\n",
      " 12  religion              128 non-null    object\n",
      " 13  marital_status        113 non-null    object\n",
      " 14  ethnicity             129 non-null    object\n",
      " 15  edregtime             92 non-null     object\n",
      " 16  edouttime             92 non-null     object\n",
      " 17  diagnosis             129 non-null    object\n",
      " 18  hospital_expire_flag  129 non-null    int64 \n",
      " 19  has_chartevents_data  129 non-null    int64 \n",
      "dtypes: int64(6), object(14)\n",
      "memory usage: 20.3+ KB\n"
     ]
    }
   ],
   "source": [
    "admissions.info()"
   ]
  },
  {
   "cell_type": "code",
   "execution_count": 81,
   "id": "84944c05-1b9a-490a-8cb3-7da4f6e2462f",
   "metadata": {},
   "outputs": [],
   "source": [
    "##### # I found some columns that should be converted to datetime"
   ]
  },
  {
   "cell_type": "code",
   "execution_count": 82,
   "id": "e01c969a-a60d-49ee-b9c5-a156669bb6f0",
   "metadata": {},
   "outputs": [],
   "source": [
    "admissions['deathtime'] = pd.to_datetime(admissions['deathtime'])\n",
    "admissions['admittime'] = pd.to_datetime(admissions['admittime'])\n",
    "admissions['dischtime'] = pd.to_datetime(admissions['dischtime'])\n",
    "admissions['edregtime'] = pd.to_datetime(admissions['edregtime'])\n",
    "admissions['edouttime'] = pd.to_datetime(admissions['edouttime'])"
   ]
  },
  {
   "cell_type": "code",
   "execution_count": 83,
   "id": "7d49781e-b948-4f2f-9c35-c04c96d363a6",
   "metadata": {},
   "outputs": [
    {
     "name": "stdout",
     "output_type": "stream",
     "text": [
      "<class 'pandas.core.frame.DataFrame'>\n",
      "RangeIndex: 129 entries, 0 to 128\n",
      "Data columns (total 20 columns):\n",
      " #   Column                Non-Null Count  Dtype         \n",
      "---  ------                --------------  -----         \n",
      " 0   index                 129 non-null    int64         \n",
      " 1   row_id                129 non-null    int64         \n",
      " 2   subject_id            129 non-null    int64         \n",
      " 3   hadm_id               129 non-null    int64         \n",
      " 4   admittime             129 non-null    datetime64[ns]\n",
      " 5   dischtime             129 non-null    datetime64[ns]\n",
      " 6   deathtime             40 non-null     datetime64[ns]\n",
      " 7   admission_type        129 non-null    object        \n",
      " 8   admission_location    129 non-null    object        \n",
      " 9   discharge_location    129 non-null    object        \n",
      " 10  insurance             129 non-null    object        \n",
      " 11  language              81 non-null     object        \n",
      " 12  religion              128 non-null    object        \n",
      " 13  marital_status        113 non-null    object        \n",
      " 14  ethnicity             129 non-null    object        \n",
      " 15  edregtime             92 non-null     datetime64[ns]\n",
      " 16  edouttime             92 non-null     datetime64[ns]\n",
      " 17  diagnosis             129 non-null    object        \n",
      " 18  hospital_expire_flag  129 non-null    int64         \n",
      " 19  has_chartevents_data  129 non-null    int64         \n",
      "dtypes: datetime64[ns](5), int64(6), object(9)\n",
      "memory usage: 20.3+ KB\n"
     ]
    }
   ],
   "source": [
    "admissions.info()"
   ]
  },
  {
   "cell_type": "code",
   "execution_count": 84,
   "id": "67396c4f-ec1a-47ed-85b6-b9ff3ea7a719",
   "metadata": {},
   "outputs": [],
   "source": [
    "# Merged 'HISPANIC/LATINO - PUERTO RICAN' and 'HISPANIC/LATINO' into 'HISPANIC/LATINO' in the 'ethnicity' column\n",
    "\n",
    "admissions['ethnicity'] = admissions['ethnicity'].replace(['HISPANIC/LATINO - PUERTO RICAN','HISPANIC/LATINO'],'HISPANIC OR LATINO')\n",
    "admissions['ethnicity'] = admissions['ethnicity'].replace('UNABLE TO OBTAIN','UNKNOWN/NOT SPECIFIED')\n",
    "\n",
    "# Did the same in the 'religion' column for similar subgroups\n",
    "\n",
    "admissions['religion'] = admissions['religion'].replace('UNOBTAINABLE','NOT SPECIFIED')"
   ]
  },
  {
   "cell_type": "markdown",
   "id": "6b8af62b-ab50-4ea7-9563-28b827e26b4a",
   "metadata": {},
   "source": [
    "### in diagnosis_full there was nothing to be cleaned"
   ]
  },
  {
   "cell_type": "code",
   "execution_count": 85,
   "id": "e18ef7e0-7710-46cd-ae38-e125e0f90f39",
   "metadata": {},
   "outputs": [],
   "source": [
    "diagnosis_full.rename(columns = {'row_id_x' : 'row_id','index_x' : 'index'}, inplace =  True)"
   ]
  },
  {
   "cell_type": "markdown",
   "id": "ac2442db-83f6-4bcd-9108-d24bb52cfdca",
   "metadata": {},
   "source": [
    "### Cleaning icustays Data"
   ]
  },
  {
   "cell_type": "code",
   "execution_count": 86,
   "id": "9f023829-1b08-421d-975f-3a6b201bb4da",
   "metadata": {},
   "outputs": [
    {
     "data": {
      "text/html": [
       "<div>\n",
       "<style scoped>\n",
       "    .dataframe tbody tr th:only-of-type {\n",
       "        vertical-align: middle;\n",
       "    }\n",
       "\n",
       "    .dataframe tbody tr th {\n",
       "        vertical-align: top;\n",
       "    }\n",
       "\n",
       "    .dataframe thead th {\n",
       "        text-align: right;\n",
       "    }\n",
       "</style>\n",
       "<table border=\"1\" class=\"dataframe\">\n",
       "  <thead>\n",
       "    <tr style=\"text-align: right;\">\n",
       "      <th></th>\n",
       "      <th>index</th>\n",
       "      <th>row_id</th>\n",
       "      <th>subject_id</th>\n",
       "      <th>hadm_id</th>\n",
       "      <th>icustay_id</th>\n",
       "      <th>dbsource</th>\n",
       "      <th>first_careunit</th>\n",
       "      <th>last_careunit</th>\n",
       "      <th>first_wardid</th>\n",
       "      <th>last_wardid</th>\n",
       "      <th>intime</th>\n",
       "      <th>outtime</th>\n",
       "      <th>los</th>\n",
       "    </tr>\n",
       "  </thead>\n",
       "  <tbody>\n",
       "    <tr>\n",
       "      <th>0</th>\n",
       "      <td>0</td>\n",
       "      <td>12742</td>\n",
       "      <td>10006</td>\n",
       "      <td>142345</td>\n",
       "      <td>206504</td>\n",
       "      <td>carevue</td>\n",
       "      <td>MICU</td>\n",
       "      <td>MICU</td>\n",
       "      <td>52</td>\n",
       "      <td>52</td>\n",
       "      <td>2164-10-23 21:10:15</td>\n",
       "      <td>2164-10-25 12:21:07</td>\n",
       "      <td>1.6325</td>\n",
       "    </tr>\n",
       "    <tr>\n",
       "      <th>1</th>\n",
       "      <td>1</td>\n",
       "      <td>12747</td>\n",
       "      <td>10011</td>\n",
       "      <td>105331</td>\n",
       "      <td>232110</td>\n",
       "      <td>carevue</td>\n",
       "      <td>MICU</td>\n",
       "      <td>MICU</td>\n",
       "      <td>15</td>\n",
       "      <td>15</td>\n",
       "      <td>2126-08-14 22:34:00</td>\n",
       "      <td>2126-08-28 18:59:00</td>\n",
       "      <td>13.8507</td>\n",
       "    </tr>\n",
       "    <tr>\n",
       "      <th>2</th>\n",
       "      <td>2</td>\n",
       "      <td>12749</td>\n",
       "      <td>10013</td>\n",
       "      <td>165520</td>\n",
       "      <td>264446</td>\n",
       "      <td>carevue</td>\n",
       "      <td>MICU</td>\n",
       "      <td>MICU</td>\n",
       "      <td>15</td>\n",
       "      <td>15</td>\n",
       "      <td>2125-10-04 23:38:00</td>\n",
       "      <td>2125-10-07 15:13:52</td>\n",
       "      <td>2.6499</td>\n",
       "    </tr>\n",
       "    <tr>\n",
       "      <th>3</th>\n",
       "      <td>3</td>\n",
       "      <td>12754</td>\n",
       "      <td>10017</td>\n",
       "      <td>199207</td>\n",
       "      <td>204881</td>\n",
       "      <td>carevue</td>\n",
       "      <td>CCU</td>\n",
       "      <td>CCU</td>\n",
       "      <td>7</td>\n",
       "      <td>7</td>\n",
       "      <td>2149-05-29 18:52:29</td>\n",
       "      <td>2149-05-31 22:19:17</td>\n",
       "      <td>2.1436</td>\n",
       "    </tr>\n",
       "    <tr>\n",
       "      <th>4</th>\n",
       "      <td>4</td>\n",
       "      <td>12755</td>\n",
       "      <td>10019</td>\n",
       "      <td>177759</td>\n",
       "      <td>228977</td>\n",
       "      <td>carevue</td>\n",
       "      <td>MICU</td>\n",
       "      <td>MICU</td>\n",
       "      <td>15</td>\n",
       "      <td>15</td>\n",
       "      <td>2163-05-14 20:43:56</td>\n",
       "      <td>2163-05-16 03:47:04</td>\n",
       "      <td>1.2938</td>\n",
       "    </tr>\n",
       "  </tbody>\n",
       "</table>\n",
       "</div>"
      ],
      "text/plain": [
       "   index  row_id  subject_id  hadm_id  icustay_id dbsource first_careunit  \\\n",
       "0      0   12742       10006   142345      206504  carevue           MICU   \n",
       "1      1   12747       10011   105331      232110  carevue           MICU   \n",
       "2      2   12749       10013   165520      264446  carevue           MICU   \n",
       "3      3   12754       10017   199207      204881  carevue            CCU   \n",
       "4      4   12755       10019   177759      228977  carevue           MICU   \n",
       "\n",
       "  last_careunit  first_wardid  last_wardid               intime  \\\n",
       "0          MICU            52           52  2164-10-23 21:10:15   \n",
       "1          MICU            15           15  2126-08-14 22:34:00   \n",
       "2          MICU            15           15  2125-10-04 23:38:00   \n",
       "3           CCU             7            7  2149-05-29 18:52:29   \n",
       "4          MICU            15           15  2163-05-14 20:43:56   \n",
       "\n",
       "               outtime      los  \n",
       "0  2164-10-25 12:21:07   1.6325  \n",
       "1  2126-08-28 18:59:00  13.8507  \n",
       "2  2125-10-07 15:13:52   2.6499  \n",
       "3  2149-05-31 22:19:17   2.1436  \n",
       "4  2163-05-16 03:47:04   1.2938  "
      ]
     },
     "execution_count": 86,
     "metadata": {},
     "output_type": "execute_result"
    }
   ],
   "source": [
    "icustays.head()"
   ]
  },
  {
   "cell_type": "code",
   "execution_count": 87,
   "id": "6ddc2f15-1a6c-4045-9e85-2b35b29aff37",
   "metadata": {},
   "outputs": [],
   "source": [
    "icustays['intime'] = pd.to_datetime(icustays['intime'])\n",
    "icustays['outtime'] = pd.to_datetime(icustays['outtime'])"
   ]
  },
  {
   "cell_type": "markdown",
   "id": "6da0cb4d-384c-4bbf-ad1a-a681932c5db1",
   "metadata": {},
   "source": [
    "### Cleaning patients Data"
   ]
  },
  {
   "cell_type": "code",
   "execution_count": 88,
   "id": "de459f7b-5436-4e48-8dca-25a027849b6e",
   "metadata": {},
   "outputs": [
    {
     "data": {
      "text/html": [
       "<div>\n",
       "<style scoped>\n",
       "    .dataframe tbody tr th:only-of-type {\n",
       "        vertical-align: middle;\n",
       "    }\n",
       "\n",
       "    .dataframe tbody tr th {\n",
       "        vertical-align: top;\n",
       "    }\n",
       "\n",
       "    .dataframe thead th {\n",
       "        text-align: right;\n",
       "    }\n",
       "</style>\n",
       "<table border=\"1\" class=\"dataframe\">\n",
       "  <thead>\n",
       "    <tr style=\"text-align: right;\">\n",
       "      <th></th>\n",
       "      <th>index</th>\n",
       "      <th>row_id</th>\n",
       "      <th>subject_id</th>\n",
       "      <th>gender</th>\n",
       "      <th>dob</th>\n",
       "      <th>dod</th>\n",
       "      <th>dod_hosp</th>\n",
       "      <th>dod_ssn</th>\n",
       "      <th>expire_flag</th>\n",
       "    </tr>\n",
       "  </thead>\n",
       "  <tbody>\n",
       "    <tr>\n",
       "      <th>0</th>\n",
       "      <td>0</td>\n",
       "      <td>9467</td>\n",
       "      <td>10006</td>\n",
       "      <td>F</td>\n",
       "      <td>2094-03-05 00:00:00</td>\n",
       "      <td>2165-08-12 00:00:00</td>\n",
       "      <td>2165-08-12 00:00:00</td>\n",
       "      <td>2165-08-12 00:00:00</td>\n",
       "      <td>1</td>\n",
       "    </tr>\n",
       "    <tr>\n",
       "      <th>1</th>\n",
       "      <td>1</td>\n",
       "      <td>9472</td>\n",
       "      <td>10011</td>\n",
       "      <td>F</td>\n",
       "      <td>2090-06-05 00:00:00</td>\n",
       "      <td>2126-08-28 00:00:00</td>\n",
       "      <td>2126-08-28 00:00:00</td>\n",
       "      <td>NaN</td>\n",
       "      <td>1</td>\n",
       "    </tr>\n",
       "    <tr>\n",
       "      <th>2</th>\n",
       "      <td>2</td>\n",
       "      <td>9474</td>\n",
       "      <td>10013</td>\n",
       "      <td>F</td>\n",
       "      <td>2038-09-03 00:00:00</td>\n",
       "      <td>2125-10-07 00:00:00</td>\n",
       "      <td>2125-10-07 00:00:00</td>\n",
       "      <td>2125-10-07 00:00:00</td>\n",
       "      <td>1</td>\n",
       "    </tr>\n",
       "    <tr>\n",
       "      <th>3</th>\n",
       "      <td>3</td>\n",
       "      <td>9478</td>\n",
       "      <td>10017</td>\n",
       "      <td>F</td>\n",
       "      <td>2075-09-21 00:00:00</td>\n",
       "      <td>2152-09-12 00:00:00</td>\n",
       "      <td>NaN</td>\n",
       "      <td>2152-09-12 00:00:00</td>\n",
       "      <td>1</td>\n",
       "    </tr>\n",
       "    <tr>\n",
       "      <th>4</th>\n",
       "      <td>4</td>\n",
       "      <td>9479</td>\n",
       "      <td>10019</td>\n",
       "      <td>M</td>\n",
       "      <td>2114-06-20 00:00:00</td>\n",
       "      <td>2163-05-15 00:00:00</td>\n",
       "      <td>2163-05-15 00:00:00</td>\n",
       "      <td>2163-05-15 00:00:00</td>\n",
       "      <td>1</td>\n",
       "    </tr>\n",
       "  </tbody>\n",
       "</table>\n",
       "</div>"
      ],
      "text/plain": [
       "   index  row_id  subject_id gender                  dob                  dod  \\\n",
       "0      0    9467       10006      F  2094-03-05 00:00:00  2165-08-12 00:00:00   \n",
       "1      1    9472       10011      F  2090-06-05 00:00:00  2126-08-28 00:00:00   \n",
       "2      2    9474       10013      F  2038-09-03 00:00:00  2125-10-07 00:00:00   \n",
       "3      3    9478       10017      F  2075-09-21 00:00:00  2152-09-12 00:00:00   \n",
       "4      4    9479       10019      M  2114-06-20 00:00:00  2163-05-15 00:00:00   \n",
       "\n",
       "              dod_hosp              dod_ssn  expire_flag  \n",
       "0  2165-08-12 00:00:00  2165-08-12 00:00:00            1  \n",
       "1  2126-08-28 00:00:00                  NaN            1  \n",
       "2  2125-10-07 00:00:00  2125-10-07 00:00:00            1  \n",
       "3                  NaN  2152-09-12 00:00:00            1  \n",
       "4  2163-05-15 00:00:00  2163-05-15 00:00:00            1  "
      ]
     },
     "execution_count": 88,
     "metadata": {},
     "output_type": "execute_result"
    }
   ],
   "source": [
    "patients.head()"
   ]
  },
  {
   "cell_type": "code",
   "execution_count": 89,
   "id": "ac363d94-9daf-4737-8e1b-ccec7de3e909",
   "metadata": {},
   "outputs": [],
   "source": [
    "patients['dob'] = pd.to_datetime(patients['dob'])\n",
    "patients['dod'] = pd.to_datetime(patients['dod'])\n",
    "patients['dod_hosp'] = pd.to_datetime(patients['dod_hosp'])\n",
    "patients['dod_ssn'] = pd.to_datetime(patients['dod_ssn'])"
   ]
  },
  {
   "cell_type": "markdown",
   "id": "fd6b6793-83c5-49a1-9e91-e573a6873719",
   "metadata": {},
   "source": [
    "### Optimizing the Dataypes so it won't throw an error in Hive later on:"
   ]
  },
  {
   "cell_type": "code",
   "execution_count": 90,
   "id": "5ea60c8c-fa47-4405-94b6-a8c28909d2a6",
   "metadata": {},
   "outputs": [],
   "source": [
    "dfs = [admissions , diagnosis_full , icustays , patients]"
   ]
  },
  {
   "cell_type": "code",
   "execution_count": 91,
   "id": "5201b4df-04cb-4309-bc65-e236e71403bc",
   "metadata": {},
   "outputs": [],
   "source": [
    "#Converty int64 to int32 so it takes less space in Hive:\n",
    "for df in dfs:\n",
    "    for col in df.columns:\n",
    "        if pd.api.types.is_integer_dtype(df[col]):\n",
    "            if df[col].max() < 2_147_483_648 and df[col].min() > -2_147_483_649:\n",
    "                df[col] = df[col].astype(\"int32\")"
   ]
  },
  {
   "cell_type": "markdown",
   "id": "96b9d8b4-c290-4031-a6b4-6fdc0e0a6a49",
   "metadata": {},
   "source": [
    "### Saving files to parquet"
   ]
  },
  {
   "cell_type": "code",
   "execution_count": 97,
   "id": "2d850c51-fb27-41e8-9312-cb26a42a6650",
   "metadata": {},
   "outputs": [],
   "source": [
    "admissions.to_parquet(r\"D:\\iti\\big_data\\data_cleaned\\admissions.parquet\", engine='pyarrow', index=False,use_deprecated_int96_timestamps =True)"
   ]
  },
  {
   "cell_type": "code",
   "execution_count": 98,
   "id": "f0bd4240-bd29-4264-9f09-788ff3f829ee",
   "metadata": {},
   "outputs": [],
   "source": [
    "diagnosis_full.to_parquet(r\"D:\\iti\\big_data\\data_cleaned\\diagnosis_full.parquet\", engine='pyarrow', index=False, use_deprecated_int96_timestamps =True)"
   ]
  },
  {
   "cell_type": "code",
   "execution_count": 99,
   "id": "e250abb6-4899-45b3-b8af-c501cee12321",
   "metadata": {},
   "outputs": [],
   "source": [
    "icustays.to_parquet(r\"D:\\iti\\big_data\\data_cleaned\\icustays.parquet\", engine='pyarrow', index=False, use_deprecated_int96_timestamps =True)"
   ]
  },
  {
   "cell_type": "code",
   "execution_count": 100,
   "id": "03b1b012-7be3-4867-9265-8ac478f2a45a",
   "metadata": {},
   "outputs": [],
   "source": [
    "patients.to_parquet(r\"D:\\iti\\big_data\\data_cleaned\\patients.parquet\", engine='pyarrow', index=False, use_deprecated_int96_timestamps =True)"
   ]
  },
  {
   "cell_type": "code",
   "execution_count": null,
   "id": "13788ddc-b946-4dc2-85a8-f3ba1be8d6b4",
   "metadata": {},
   "outputs": [],
   "source": []
  }
 ],
 "metadata": {
  "kernelspec": {
   "display_name": "Python 3 (ipykernel)",
   "language": "python",
   "name": "python3"
  },
  "language_info": {
   "codemirror_mode": {
    "name": "ipython",
    "version": 3
   },
   "file_extension": ".py",
   "mimetype": "text/x-python",
   "name": "python",
   "nbconvert_exporter": "python",
   "pygments_lexer": "ipython3",
   "version": "3.13.2"
  }
 },
 "nbformat": 4,
 "nbformat_minor": 5
}
